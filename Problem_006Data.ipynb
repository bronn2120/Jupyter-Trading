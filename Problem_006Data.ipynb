{
 "cells": [
  {
   "cell_type": "markdown",
   "id": "7aa70fa5-c397-4dd1-a3f5-22177a40e5da",
   "metadata": {},
   "source": [
    "Data"
   ]
  },
  {
   "cell_type": "code",
   "execution_count": null,
   "id": "8b9ef164-b0b5-4dc7-8846-8ad0369684bc",
   "metadata": {},
   "outputs": [],
   "source": []
  },
  {
   "cell_type": "code",
   "execution_count": null,
   "id": "6d733f4b-2fe3-48fb-b493-be979c087ccc",
   "metadata": {},
   "outputs": [],
   "source": [
    "Problem 6:"
   ]
  },
  {
   "cell_type": "code",
   "execution_count": null,
   "id": "5b55cc20-78fc-4769-aa3c-ff8a040f7bc3",
   "metadata": {},
   "outputs": [],
   "source": [
    "Problem Statement"
   ]
  },
  {
   "cell_type": "code",
   "execution_count": null,
   "id": "a9fd68f6-685d-4a82-a10d-cc4b8d037043",
   "metadata": {},
   "outputs": [],
   "source": []
  },
  {
   "cell_type": "code",
   "execution_count": null,
   "id": "3c3571f6-b0e4-411b-9416-cd9d2cbe51dd",
   "metadata": {},
   "outputs": [],
   "source": []
  },
  {
   "cell_type": "code",
   "execution_count": null,
   "id": "8d2475bf-fc0d-4db6-aa93-b2c3c01cb8c9",
   "metadata": {},
   "outputs": [],
   "source": []
  },
  {
   "cell_type": "code",
   "execution_count": null,
   "id": "0153cd1e-3924-4983-810a-6cb56d06187a",
   "metadata": {},
   "outputs": [],
   "source": []
  },
  {
   "cell_type": "markdown",
   "id": "04ed9bb2-46ba-4680-ad6a-585454f4f3ef",
   "metadata": {},
   "source": [
    "arXiv is an open-access archive for 2 million scholarly articles in the fields of physics, mathematics, computer science, quantitative biology, quantitative finance, statistics, electrical engineering and systems science, and economics.\n"
   ]
  },
  {
   "cell_type": "markdown",
   "id": "c130fb3c-4d2e-4f55-8934-2c616b4d6ee5",
   "metadata": {},
   "source": [
    "Jupyter Notebook- This notebook covers how to load data from a Jupyter notebook (.html) into a format suitable by LangChain."
   ]
  },
  {
   "cell_type": "markdown",
   "id": "3595c209-dd18-4747-a158-94dad3e5b16b",
   "metadata": {},
   "source": [
    "This notebook goes over how to load data from a pandas DataFrame.\n"
   ]
  },
  {
   "cell_type": "markdown",
   "id": "8da06b50-6fef-47fe-b307-aebf87b84474",
   "metadata": {},
   "source": [
    "This notebook covers how to load documents from Psychic"
   ]
  },
  {
   "cell_type": "markdown",
   "id": "062c84be-9809-475d-a9e0-063edc73be7e",
   "metadata": {},
   "source": [
    "PySpark DataFrame Loader - Knowledge database\n"
   ]
  },
  {
   "cell_type": "markdown",
   "id": "850af682-1728-4d87-9027-548a4753e2a1",
   "metadata": {},
   "source": [
    "Reddit- look for mene coins\n"
   ]
  },
  {
   "cell_type": "markdown",
   "id": "5b5eabd5-e35c-4905-8dfb-93630564e55e",
   "metadata": {},
   "source": [
    "Telegram- setiment/gems\n"
   ]
  },
  {
   "cell_type": "markdown",
   "id": "df5ae93d-2492-4b52-9000-198bd17ee8e6",
   "metadata": {},
   "source": [
    "Text embedding models The Embeddings class is a class designed for interfacing with text embedding models. There are lots of embedding model providers (OpenAI, Cohere, Hugging Face, etc) - this class is designed to provide a standard interface for all of them.\n",
    "\n",
    "Vector Stores: Chroma is a AI-native open-source vector database focused on developer productivity and happiness. Pinecone is a vector database with broad functionality.\n"
   ]
  },
  {
   "cell_type": "code",
   "execution_count": null,
   "id": "967deaef-1bd5-4a7b-98c2-e78ef64bec09",
   "metadata": {},
   "outputs": [],
   "source": []
  },
  {
   "cell_type": "code",
   "execution_count": null,
   "id": "28f1aeb4-b955-4e15-9e0c-270aa6c7cae6",
   "metadata": {},
   "outputs": [],
   "source": []
  },
  {
   "cell_type": "code",
   "execution_count": null,
   "id": "7237418f-8fdf-48d7-90c5-993c4cbcd835",
   "metadata": {},
   "outputs": [],
   "source": []
  }
 ],
 "metadata": {
  "kernelspec": {
   "display_name": "Python 3 (ipykernel)",
   "language": "python",
   "name": "python3"
  },
  "language_info": {
   "codemirror_mode": {
    "name": "ipython",
    "version": 3
   },
   "file_extension": ".py",
   "mimetype": "text/x-python",
   "name": "python",
   "nbconvert_exporter": "python",
   "pygments_lexer": "ipython3",
   "version": "3.10.6"
  }
 },
 "nbformat": 4,
 "nbformat_minor": 5
}
