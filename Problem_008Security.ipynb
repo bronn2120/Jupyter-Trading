{
 "cells": [
  {
   "cell_type": "markdown",
   "id": "73ed63c2-2f65-4919-b366-593314c17a02",
   "metadata": {},
   "source": [
    "Security"
   ]
  },
  {
   "cell_type": "code",
   "execution_count": null,
   "id": "66c3aa5f-0766-4d0f-9dcd-e65bbb9051c5",
   "metadata": {},
   "outputs": [],
   "source": []
  },
  {
   "cell_type": "markdown",
   "id": "0f03b5b6-d6c0-4d5e-b098-03256eaebb2b",
   "metadata": {},
   "source": [
    "Problem 8:"
   ]
  },
  {
   "cell_type": "markdown",
   "id": "f722de71-e723-4981-990a-b59c94e813b0",
   "metadata": {},
   "source": [
    "Problem Statement"
   ]
  },
  {
   "cell_type": "code",
   "execution_count": null,
   "id": "3d8d7de1-ba2c-434e-bee0-985aa1446835",
   "metadata": {},
   "outputs": [],
   "source": []
  },
  {
   "cell_type": "code",
   "execution_count": null,
   "id": "2975e371-997d-4ec2-a146-c72a16156458",
   "metadata": {},
   "outputs": [],
   "source": []
  },
  {
   "cell_type": "code",
   "execution_count": null,
   "id": "1f54dd66-a607-461e-8083-00a72c1a640f",
   "metadata": {},
   "outputs": [],
   "source": []
  },
  {
   "cell_type": "code",
   "execution_count": null,
   "id": "6599fd0d-ca78-49b8-8794-be11020a3f13",
   "metadata": {},
   "outputs": [],
   "source": []
  },
  {
   "cell_type": "code",
   "execution_count": null,
   "id": "96c758fc-8c3e-4762-86e3-2fcb929ffb66",
   "metadata": {},
   "outputs": [],
   "source": []
  },
  {
   "cell_type": "code",
   "execution_count": null,
   "id": "6c84be7a-f713-430b-92d0-6882e20415c8",
   "metadata": {},
   "outputs": [],
   "source": []
  }
 ],
 "metadata": {
  "kernelspec": {
   "display_name": "Python 3 (ipykernel)",
   "language": "python",
   "name": "python3"
  },
  "language_info": {
   "codemirror_mode": {
    "name": "ipython",
    "version": 3
   },
   "file_extension": ".py",
   "mimetype": "text/x-python",
   "name": "python",
   "nbconvert_exporter": "python",
   "pygments_lexer": "ipython3",
   "version": "3.10.6"
  }
 },
 "nbformat": 4,
 "nbformat_minor": 5
}
