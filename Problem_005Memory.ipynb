{
 "cells": [
  {
   "cell_type": "markdown",
   "id": "ef1efbcf-345c-4d06-b0fc-d304bd1da3b5",
   "metadata": {},
   "source": [
    "Memory"
   ]
  },
  {
   "cell_type": "code",
   "execution_count": null,
   "id": "cc8f28e5-0a8e-4d78-8c69-9e410501a264",
   "metadata": {},
   "outputs": [],
   "source": []
  },
  {
   "cell_type": "code",
   "execution_count": null,
   "id": "21be412c-5470-483f-872b-41f53212d643",
   "metadata": {},
   "outputs": [],
   "source": [
    "Problem 5:"
   ]
  },
  {
   "cell_type": "code",
   "execution_count": null,
   "id": "24debdb9-5f6d-48d7-baa8-48dfad7c5b87",
   "metadata": {},
   "outputs": [],
   "source": [
    "Problem Statement"
   ]
  },
  {
   "cell_type": "code",
   "execution_count": null,
   "id": "ff8f8a65-c8c5-4209-9822-585f45217ffb",
   "metadata": {},
   "outputs": [],
   "source": []
  },
  {
   "cell_type": "code",
   "execution_count": null,
   "id": "fd93c968-f086-44f8-af43-d7224488b657",
   "metadata": {},
   "outputs": [],
   "source": []
  },
  {
   "cell_type": "code",
   "execution_count": null,
   "id": "201b9d9c-293c-44a5-82c2-563988e1604a",
   "metadata": {},
   "outputs": [],
   "source": []
  },
  {
   "cell_type": "code",
   "execution_count": null,
   "id": "5c598802-efb4-4667-b2a2-2faa5c13867f",
   "metadata": {},
   "outputs": [],
   "source": []
  },
  {
   "cell_type": "markdown",
   "id": "72668425-ec32-464f-8b8e-54a3fced8e70",
   "metadata": {},
   "source": [
    "Entity memory Entity Memory remembers given facts about specific entities in a conversation. It extracts information on entities (using an LLM) and builds up its knowledge about that entity over time (also using an LLM)."
   ]
  },
  {
   "cell_type": "markdown",
   "id": "fc7b8360-255c-4429-a331-6e17084ad0d3",
   "metadata": {},
   "source": [
    "Vector store-backed memory VectorStoreRetrieverMemory stores memories in a VectorDB and queries the top-K most \"salient\" docs every time it is called.\n",
    "\n",
    "This differs from most of the other Memory classes in that it doesn't explicitly track the order of interactions.\n",
    "\n",
    "In this case, the \"docs\" are previous conversation snippets. This can be useful to refer to relevant pieces of information that the AI was told earlier in the conversation."
   ]
  },
  {
   "cell_type": "markdown",
   "id": "771eaf06-a811-4e0a-986c-6120e03e2df3",
   "metadata": {},
   "source": [
    "Zep Memory REACT Agent Chat Message History with Zep - A long-term memory store for LLM applications. This notebook demonstrates how to use the Zep Long-term Memory Store as memory for your chatbot.\n",
    "\n",
    "We'll demonstrate:\n",
    "\n",
    "Adding conversation history to the Zep memory store. Running an agent and having message automatically added to the store. Viewing the enriched messages. Vector search over the conversation history. More on Zep: Zep stores, summarizes, embeds, indexes, and enriches conversational AI chat histories, and exposes them via simple, low-latency APIs.\n",
    "\n",
    "Key Features:\n",
    "\n",
    "Fast! Zep’s async extractors operate independently of the your chat loop, ensuring a snappy user experience. Long-term memory persistence, with access to historical messages irrespective of your summarization strategy. Auto-summarization of memory messages based on a configurable message window. A series of summaries are stored, providing flexibility for future summarization strategies. Hybrid search over memories and metadata, with messages automatically embedded on creation. Entity Extractor that automatically extracts named entities from messages and stores them in the message metadata. Auto-token counting of memories and summaries, allowing finer-grained control over prompt assembly. Python and JavaScript SDKs.\n"
   ]
  },
  {
   "cell_type": "code",
   "execution_count": null,
   "id": "ea1c13c8-598a-48b2-9bde-280bc5871948",
   "metadata": {},
   "outputs": [],
   "source": []
  },
  {
   "cell_type": "code",
   "execution_count": null,
   "id": "3c291168-1898-4c17-ba9c-57bc7b6cd79a",
   "metadata": {},
   "outputs": [],
   "source": []
  },
  {
   "cell_type": "code",
   "execution_count": null,
   "id": "125582d2-8a56-498b-8900-5759fadafcca",
   "metadata": {},
   "outputs": [],
   "source": []
  },
  {
   "cell_type": "code",
   "execution_count": null,
   "id": "f71339bc-0b24-4cec-8606-27a5743a7cf3",
   "metadata": {},
   "outputs": [],
   "source": []
  },
  {
   "cell_type": "code",
   "execution_count": null,
   "id": "13ae1cbc-283a-4770-b8a3-a57aa7897578",
   "metadata": {},
   "outputs": [],
   "source": []
  },
  {
   "cell_type": "code",
   "execution_count": null,
   "id": "696f9585-e7db-45e1-bece-c6e5bbfb9fb6",
   "metadata": {},
   "outputs": [],
   "source": []
  },
  {
   "cell_type": "code",
   "execution_count": null,
   "id": "46dec7f9-73a1-4c54-a99e-e682537e3f9e",
   "metadata": {},
   "outputs": [],
   "source": []
  },
  {
   "cell_type": "code",
   "execution_count": null,
   "id": "f85b689e-d42c-444e-a189-314f8e2a50b6",
   "metadata": {},
   "outputs": [],
   "source": []
  },
  {
   "cell_type": "code",
   "execution_count": null,
   "id": "3d4631e8-59c8-480a-b67d-734427eb66a0",
   "metadata": {},
   "outputs": [],
   "source": []
  },
  {
   "cell_type": "code",
   "execution_count": null,
   "id": "4735d879-126c-4b66-9f71-1d447fa559eb",
   "metadata": {},
   "outputs": [],
   "source": []
  }
 ],
 "metadata": {
  "kernelspec": {
   "display_name": "Python 3 (ipykernel)",
   "language": "python",
   "name": "python3"
  },
  "language_info": {
   "codemirror_mode": {
    "name": "ipython",
    "version": 3
   },
   "file_extension": ".py",
   "mimetype": "text/x-python",
   "name": "python",
   "nbconvert_exporter": "python",
   "pygments_lexer": "ipython3",
   "version": "3.10.6"
  }
 },
 "nbformat": 4,
 "nbformat_minor": 5
}
