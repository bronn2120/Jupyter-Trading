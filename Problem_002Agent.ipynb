{
 "cells": [
  {
   "cell_type": "markdown",
   "id": "713d5c2c-0427-4393-b037-dff3b29c085b",
   "metadata": {},
   "source": [
    "Agent"
   ]
  },
  {
   "cell_type": "markdown",
   "id": "3ca8b394-b3aa-4ae9-9f0d-4bee8902d063",
   "metadata": {},
   "source": []
  },
  {
   "cell_type": "markdown",
   "id": "4a98c320-c6fb-4629-bc9a-8fb46e7a6c35",
   "metadata": {},
   "source": [
    "Problem 2: Read and Understand Plan-and-solve Agent using LangChang"
   ]
  },
  {
   "cell_type": "markdown",
   "id": "ed715b16-15ec-4e19-9ad0-56d9c43c0bab",
   "metadata": {},
   "source": [
    "Problem Statement"
   ]
  },
  {
   "cell_type": "markdown",
   "id": "7fd2b9ca-bcfb-48d1-8b44-6b4659fb1ead",
   "metadata": {},
   "source": [
    "Plan and execute Plan and execute agents accomplish an objective by first planning what to do, then executing the sub tasks. This idea is largely inspired by BabyAGI and then the \"Plan-and-Solve\" paper.\n"
   ]
  },
  {
   "cell_type": "markdown",
   "id": "420aae24-2a8b-4fbe-ad07-0a725faed6fd",
   "metadata": {},
   "source": [
    "Read and understand github: https://github.com/AGI-Edgerunners/Plan-and-Solve-Prompting"
   ]
  },
  {
   "cell_type": "markdown",
   "id": "0d6136cb-61a6-4f3d-b197-9862feb2a491",
   "metadata": {},
   "source": [
    "Cap the max number of iterations This notebook walks through how to cap an agent at taking a certain number of steps. This can be useful to ensure that they do not go haywire and take too many steps."
   ]
  },
  {
   "cell_type": "markdown",
   "id": "d4a292fd-b859-4302-9a8a-081b9ab2680f",
   "metadata": {},
   "source": [
    "Shared memory across agents and tools This notebook goes over adding memory to both of an Agent and its tools. Before going through this notebook, please walk through the following notebooks, as this will build on top of both of them:"
   ]
  },
  {
   "cell_type": "markdown",
   "id": "4af6470c-9c85-4aec-a529-ff8d0dc2e454",
   "metadata": {},
   "source": [
    "Use ToolKits with OpenAI Functions This notebook shows how to use the OpenAI functions agent with arbitrary toolkits.\n"
   ]
  },
  {
   "cell_type": "markdown",
   "id": "3c325f8e-6501-49f5-b7f2-3336f91b97a8",
   "metadata": {},
   "source": [
    "Human-in-the-loop Tool Validation This walkthrough demonstrates how to add Human validation to any Tool. We'll do this using the HumanApprovalCallbackhandler."
   ]
  },
  {
   "cell_type": "code",
   "execution_count": null,
   "id": "8d12107b-6188-4f43-a326-9c68fdf2887d",
   "metadata": {},
   "outputs": [],
   "source": [
    "Change"
   ]
  },
  {
   "cell_type": "markdown",
   "id": "c0523d4d-116c-40b0-a970-832c608f6b82",
   "metadata": {},
   "source": [
    "LangChain coding examples:"
   ]
  },
  {
   "cell_type": "code",
   "execution_count": null,
   "id": "0b7b66b0-6dc8-4427-8554-268e9b0884bd",
   "metadata": {},
   "outputs": [],
   "source": [
    "python main.py --prompt_id 201 \\\n",
    "--dataset SVAMP \\\n",
    "--engine text-davinci-003 \\\n",
    "--learning_type zero_shot"
   ]
  },
  {
   "cell_type": "code",
   "execution_count": null,
   "id": "9f99716a-e791-4808-8a75-4343f3c25166",
   "metadata": {},
   "outputs": [],
   "source": [
    "python main_threads.py --prompt_id 201 \\\n",
    "--dataset SVAMP \\\n",
    "--engine text-davinci-003 \\\n",
    "--learning_type zero_shot"
   ]
  },
  {
   "cell_type": "markdown",
   "id": "3c4882fc-6dcc-403a-8607-25756cef23e3",
   "metadata": {},
   "source": [
    "Lookup prompts at https://github.com/AGI-Edgerunners/Plan-and-Solve-Prompting and determine the best for this project"
   ]
  },
  {
   "cell_type": "code",
   "execution_count": null,
   "id": "a782cd73-deb3-4553-97df-03c5287d97ca",
   "metadata": {},
   "outputs": [],
   "source": [
    "from langchain.embeddings.openai import OpenAIEmbeddings\n",
    "from langchain.vectorstores import Chroma\n",
    "from langchain.text_splitter import CharacterTextSplitter\n",
    "from langchain.llms import OpenAI\n",
    "from langchain.chains import RetrievalQA\n",
    "\n",
    "llm = OpenAI(temperature=0)"
   ]
  },
  {
   "cell_type": "code",
   "execution_count": null,
   "id": "8c5a4e2a-f1f9-4c4a-b7c8-7223f6e701c8",
   "metadata": {},
   "outputs": [],
   "source": [
    "from pathlib import Path\n",
    "\n",
    "relevant_parts = []\n",
    "for p in Path(\".\").absolute().parts:\n",
    "    relevant_parts.append(p)\n",
    "    if relevant_parts[-3:] == [\"langchain\", \"docs\", \"modules\"]:\n",
    "        break\n",
    "doc_path = str(Path(*relevant_parts) / \"state_of_the_union.txt\")"
   ]
  },
  {
   "cell_type": "code",
   "execution_count": null,
   "id": "89cdc29c-542e-43e7-9eab-fafd9f0e80f2",
   "metadata": {},
   "outputs": [],
   "source": [
    "from langchain.document_loaders import TextLoader\n",
    "\n",
    "loader = TextLoader(doc_path)\n",
    "documents = loader.load()\n",
    "text_splitter = CharacterTextSplitter(chunk_size=1000, chunk_overlap=0)\n",
    "texts = text_splitter.split_documents(documents)\n",
    "\n",
    "embeddings = OpenAIEmbeddings()\n",
    "docsearch = Chroma.from_documents(texts, embeddings, collection_name=\"state-of-union\")"
   ]
  },
  {
   "cell_type": "code",
   "execution_count": null,
   "id": "d7a45f65-a33a-4406-83d8-9c6750ffc849",
   "metadata": {},
   "outputs": [],
   "source": [
    "# Import things that are needed generically\n",
    "from langchain.agents import initialize_agent, Tool\n",
    "from langchain.agents import AgentType\n",
    "from langchain.tools import BaseTool\n",
    "from langchain.llms import OpenAI\n",
    "from langchain import LLMMathChain, SerpAPIWrapper"
   ]
  },
  {
   "cell_type": "code",
   "execution_count": null,
   "id": "ae5d97c6-307b-4529-89f6-cc3837740c8e",
   "metadata": {},
   "outputs": [],
   "source": []
  },
  {
   "cell_type": "code",
   "execution_count": null,
   "id": "12ea7070-0411-41cf-979c-14bc918ff64d",
   "metadata": {},
   "outputs": [],
   "source": []
  },
  {
   "cell_type": "code",
   "execution_count": null,
   "id": "2f19c285-4a7c-4e8b-ba0e-3f225be2f92a",
   "metadata": {},
   "outputs": [],
   "source": []
  },
  {
   "cell_type": "code",
   "execution_count": null,
   "id": "e629f26a-7feb-4c87-b9b8-d07651497474",
   "metadata": {},
   "outputs": [],
   "source": []
  },
  {
   "cell_type": "code",
   "execution_count": null,
   "id": "0894409b-440a-4774-99a5-76fe3b5b72ba",
   "metadata": {},
   "outputs": [],
   "source": []
  },
  {
   "cell_type": "code",
   "execution_count": null,
   "id": "1c1a143a-fd80-4dec-8a27-0b2f81b3ccbe",
   "metadata": {},
   "outputs": [],
   "source": []
  },
  {
   "cell_type": "code",
   "execution_count": null,
   "id": "daf69f19-a321-4309-bcb3-d883591dea8b",
   "metadata": {},
   "outputs": [],
   "source": []
  },
  {
   "cell_type": "code",
   "execution_count": null,
   "id": "4fd13e12-a46a-4a25-9ce5-892ccf428a40",
   "metadata": {},
   "outputs": [],
   "source": []
  },
  {
   "cell_type": "markdown",
   "id": "52291d5e-d5fa-4c49-9f73-09090628d8bf",
   "metadata": {},
   "source": [
    "mirror"
   ]
  }
 ],
 "metadata": {
  "kernelspec": {
   "display_name": "Python 3 (ipykernel)",
   "language": "python",
   "name": "python3"
  },
  "language_info": {
   "codemirror_mode": {
    "name": "ipython",
    "version": 3
   },
   "file_extension": ".py",
   "mimetype": "text/x-python",
   "name": "python",
   "nbconvert_exporter": "python",
   "pygments_lexer": "ipython3",
   "version": "3.10.6"
  }
 },
 "nbformat": 4,
 "nbformat_minor": 5
}
