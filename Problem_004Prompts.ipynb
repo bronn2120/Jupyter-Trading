{
 "cells": [
  {
   "cell_type": "markdown",
   "id": "572ea963-47b0-4983-9a37-0b14ea9bc104",
   "metadata": {},
   "source": [
    "Prompt Template"
   ]
  },
  {
   "cell_type": "code",
   "execution_count": null,
   "id": "676a7562-6e50-4269-9662-b62691e64091",
   "metadata": {},
   "outputs": [],
   "source": []
  },
  {
   "cell_type": "markdown",
   "id": "f9ac6371-49e5-4731-999f-d613603980e0",
   "metadata": {},
   "source": [
    "Problem 4:"
   ]
  },
  {
   "cell_type": "markdown",
   "id": "2e27e402-fc25-4c60-ace9-7233b5232497",
   "metadata": {},
   "source": [
    "Problem Statement"
   ]
  },
  {
   "cell_type": "code",
   "execution_count": null,
   "id": "bfc32c1e-9b14-466f-96b0-cff2a083bfa4",
   "metadata": {},
   "outputs": [],
   "source": []
  },
  {
   "cell_type": "code",
   "execution_count": null,
   "id": "76a3bbba-2d79-4ed9-8ee5-3551419d9e54",
   "metadata": {},
   "outputs": [],
   "source": []
  },
  {
   "cell_type": "code",
   "execution_count": null,
   "id": "c900a911-b9c0-4261-9b4b-17445f56a3ee",
   "metadata": {},
   "outputs": [],
   "source": []
  },
  {
   "cell_type": "code",
   "execution_count": null,
   "id": "10ca1c82-192f-4359-aab6-0246aeeb004b",
   "metadata": {},
   "outputs": [],
   "source": []
  },
  {
   "cell_type": "markdown",
   "id": "ba75274b-7370-4d78-a368-b0ff40c856a3",
   "metadata": {},
   "source": [
    "LangChain provides an optional caching layer for LLMs"
   ]
  },
  {
   "cell_type": "markdown",
   "id": "30ecda76-86cc-4cf6-80b3-53f7a1e66ef7",
   "metadata": {},
   "source": [
    "AzureML- Azure Foundation Models include various open-source models and popular Hugging Face models"
   ]
  },
  {
   "cell_type": "markdown",
   "id": "5f93494c-ffd5-4845-bfcb-83651733f671",
   "metadata": {},
   "source": [
    "Baseten provides all the infrastructure you need to deploy and serve ML models performantly, scalably, and cost-efficiently"
   ]
  },
  {
   "cell_type": "markdown",
   "id": "d3779ce1-f543-4b20-96a7-a738bae3f950",
   "metadata": {},
   "source": [
    "The Hugging Face Hub is a platform with over 120k models, 20k datasets, and 50k demo apps (Spaces), all open source and publicly available, in an online platform where people can easily collaborate and build ML together."
   ]
  },
  {
   "cell_type": "markdown",
   "id": "cdf2f2f2-35da-4821-bda2-d9265098e473",
   "metadata": {},
   "source": [
    "The NLP Cloud serves high performance pre-trained or custom models for NER, sentiment-analysis, classification, summarization, paraphrasing, grammar and spelling correction, keywords and keyphrases extraction, chatbot, product description and ad generation, intent classification, text generation, image generation, blog post generation, code generation, question answering, automatic speech recognition, machine translation, language detection, semantic search, semantic similarity, tokenization, POS tagging, embeddings, and dependency parsing. It is ready for production, served through a REST API."
   ]
  },
  {
   "cell_type": "code",
   "execution_count": null,
   "id": "c03b1c2d-3ad3-4aed-99a1-994a341f6bde",
   "metadata": {},
   "outputs": [],
   "source": []
  },
  {
   "cell_type": "code",
   "execution_count": null,
   "id": "cb67bc78-33e2-4237-9c0c-d42bdc7128e7",
   "metadata": {},
   "outputs": [],
   "source": []
  },
  {
   "cell_type": "code",
   "execution_count": null,
   "id": "d7ab5e73-ff91-42c1-a49e-98a32adec0f5",
   "metadata": {},
   "outputs": [],
   "source": []
  },
  {
   "cell_type": "code",
   "execution_count": null,
   "id": "bbccb75d-bf6c-421d-8ec2-f9bdaabb77af",
   "metadata": {},
   "outputs": [],
   "source": []
  }
 ],
 "metadata": {
  "kernelspec": {
   "display_name": "Python 3 (ipykernel)",
   "language": "python",
   "name": "python3"
  },
  "language_info": {
   "codemirror_mode": {
    "name": "ipython",
    "version": 3
   },
   "file_extension": ".py",
   "mimetype": "text/x-python",
   "name": "python",
   "nbconvert_exporter": "python",
   "pygments_lexer": "ipython3",
   "version": "3.10.6"
  }
 },
 "nbformat": 4,
 "nbformat_minor": 5
}
