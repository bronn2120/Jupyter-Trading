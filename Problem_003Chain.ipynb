{
 "cells": [
  {
   "cell_type": "markdown",
   "id": "d49580e2-e02f-4c79-84a8-0bc87dcf178d",
   "metadata": {},
   "source": [
    "Chain"
   ]
  },
  {
   "cell_type": "code",
   "execution_count": null,
   "id": "7e4d7660-1f5a-426b-b01e-f117ba9c77cf",
   "metadata": {},
   "outputs": [],
   "source": []
  },
  {
   "cell_type": "markdown",
   "id": "80f9d413-8190-44f7-938c-ec05f8894ff3",
   "metadata": {},
   "source": [
    "Problem 3: Make a chain in LangChain using router chain."
   ]
  },
  {
   "cell_type": "markdown",
   "id": "9e0dd0c5-a0f6-4830-b468-5c52ea7dcbbc",
   "metadata": {},
   "source": [
    "Problem Statement"
   ]
  },
  {
   "cell_type": "code",
   "execution_count": null,
   "id": "5b96001d-c175-4744-9b98-0dcb814b0913",
   "metadata": {},
   "outputs": [],
   "source": []
  },
  {
   "cell_type": "code",
   "execution_count": null,
   "id": "b5a4d5bc-a06a-4d50-a916-40d5b2f4a452",
   "metadata": {},
   "outputs": [],
   "source": []
  },
  {
   "cell_type": "code",
   "execution_count": null,
   "id": "b7389774-57e6-4441-afdc-c88dfe1ac3fc",
   "metadata": {},
   "outputs": [],
   "source": []
  },
  {
   "cell_type": "markdown",
   "id": "7920e86c-040a-489b-b2e8-51960b3bb268",
   "metadata": {},
   "source": [
    "LangChain Router Chain This notebook demonstrates how to use the RouterChain paradigm to create a chain that dynamically selects the next chain to use for a given input."
   ]
  },
  {
   "cell_type": "markdown",
   "id": "80ae29c1-f57e-449a-b1e0-20c7ed2fbfe6",
   "metadata": {},
   "source": [
    "EmbeddingRouterChain The EmbeddingRouterChain uses embeddings and similarity to route between destination chains"
   ]
  },
  {
   "cell_type": "markdown",
   "id": "7cfae449-3701-41fb-91fe-14ad02a9b883",
   "metadata": {},
   "source": [
    "Retrieval QA using OpenAI functions OpenAI functions allows for structuring of response output. This is often useful in question answering when you want to not only get the final answer but also supporting evidence, citations, etc.\n"
   ]
  },
  {
   "cell_type": "markdown",
   "id": "00c363b8-e303-4c00-b83c-115d80697da0",
   "metadata": {},
   "source": [
    "Extraction The extraction chain uses the OpenAI functions parameter to specify a schema to extract entities from a document. This helps us make sure that the model outputs exactly the schema of entities and properties that we want, with their appropriate types.\n"
   ]
  },
  {
   "cell_type": "markdown",
   "id": "68d4ccfe-070f-4762-b5a2-6405aaf73a32",
   "metadata": {},
   "source": [
    "Math chain This notebook showcases using LLMs and Python REPLs to do complex word math problems."
   ]
  },
  {
   "cell_type": "code",
   "execution_count": null,
   "id": "ce2fbed4-b067-47b7-bce2-c7939221f06b",
   "metadata": {},
   "outputs": [],
   "source": []
  },
  {
   "cell_type": "markdown",
   "id": "f9477e85-07ae-4505-9d29-e564570ed99a",
   "metadata": {},
   "source": [
    "LangChain coding examples:"
   ]
  },
  {
   "cell_type": "code",
   "execution_count": null,
   "id": "91d71f7e-dde2-4531-b471-e4c6859b99c2",
   "metadata": {},
   "outputs": [],
   "source": []
  },
  {
   "cell_type": "code",
   "execution_count": null,
   "id": "1337c322-27b3-47e7-97ee-f3b94c170e4e",
   "metadata": {},
   "outputs": [],
   "source": []
  },
  {
   "cell_type": "code",
   "execution_count": null,
   "id": "b0ef34bc-097d-4a55-b7da-7a1282c5d7d7",
   "metadata": {},
   "outputs": [],
   "source": []
  }
 ],
 "metadata": {
  "kernelspec": {
   "display_name": "Python 3 (ipykernel)",
   "language": "python",
   "name": "python3"
  },
  "language_info": {
   "codemirror_mode": {
    "name": "ipython",
    "version": 3
   },
   "file_extension": ".py",
   "mimetype": "text/x-python",
   "name": "python",
   "nbconvert_exporter": "python",
   "pygments_lexer": "ipython3",
   "version": "3.10.6"
  }
 },
 "nbformat": 4,
 "nbformat_minor": 5
}
